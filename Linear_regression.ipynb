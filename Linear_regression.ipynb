{
  "nbformat": 4,
  "nbformat_minor": 0,
  "metadata": {
    "colab": {
      "provenance": [],
      "authorship_tag": "ABX9TyNijtMsZ6+PWvzIM1aQ0WL/",
      "include_colab_link": true
    },
    "kernelspec": {
      "name": "python3",
      "display_name": "Python 3"
    },
    "language_info": {
      "name": "python"
    }
  },
  "cells": [
    {
      "cell_type": "markdown",
      "metadata": {
        "id": "view-in-github",
        "colab_type": "text"
      },
      "source": [
        "<a href=\"https://colab.research.google.com/github/RohanThawait/linear_regression_from_scratch/blob/main/Linear_regression.ipynb\" target=\"_parent\"><img src=\"https://colab.research.google.com/assets/colab-badge.svg\" alt=\"Open In Colab\"/></a>"
      ]
    },
    {
      "cell_type": "markdown",
      "source": [
        "**Linear Regression using least squaare solution**\n",
        "<br>\n",
        "# X = (A.T@A)(-1)(A.T)Y"
      ],
      "metadata": {
        "id": "0m64xma6aGLS"
      }
    },
    {
      "cell_type": "code",
      "source": [
        "import numpy as np\n",
        "A =np.array([[1,1,1],[1,2,1],[2,3,1]])\n",
        "y = np.array([3,4,8])\n",
        "a_t = A.T\n",
        "c = a_t@A\n",
        "\n",
        "det_A = np.linalg.det(A)\n",
        "if det_A != 0:\n",
        "    print(\"Matrix is invertible.\")\n",
        "    A_inv = np.linalg.inv(c)\n",
        "    print(\"Inverse of matrix A:\")\n",
        "    print(A_inv)\n",
        "else:\n",
        "    print(\"Matrix is singular and cannot be inverted.\")\n",
        "\n",
        "ans = A_inv@a_t\n",
        "X = ans@y\n",
        "print()\n",
        "print(X)"
      ],
      "metadata": {
        "colab": {
          "base_uri": "https://localhost:8080/"
        },
        "id": "99dQ0hoROYhk",
        "outputId": "665532bf-1283-4dbd-c748-d0fc52af6766"
      },
      "execution_count": 55,
      "outputs": [
        {
          "output_type": "stream",
          "name": "stdout",
          "text": [
            "Matrix is invertible.\n",
            "Inverse of matrix A:\n",
            "[[ 6.00000000e+00 -3.00000000e+00 -2.00000000e+00]\n",
            " [-3.00000000e+00  2.00000000e+00 -0.00000000e+00]\n",
            " [-2.00000000e+00 -7.40148683e-17  3.00000000e+00]]\n",
            "\n",
            "[ 3.  1. -1.]\n"
          ]
        }
      ]
    },
    {
      "cell_type": "code",
      "source": [],
      "metadata": {
        "id": "LKC3bVFTZ5FM"
      },
      "execution_count": null,
      "outputs": []
    }
  ]
}